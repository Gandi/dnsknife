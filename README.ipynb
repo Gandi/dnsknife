{
 "metadata": {
  "name": "",
  "signature": "sha256:3b44fd116fe6f7b29751f60375b6c383bdbb1b2222bf9d8b1720cc43152b5609"
 },
 "nbformat": 3,
 "nbformat_minor": 0,
 "worksheets": [
  {
   "cells": [
    {
     "cell_type": "markdown",
     "metadata": {},
     "source": [
      "# dnsknife: a DNS tool\n",
      "\n",
      "## Quick overview:"
     ]
    },
    {
     "cell_type": "code",
     "collapsed": false,
     "input": [
      "import dnsknife\n",
      "reload(dnsknife)\n",
      "ans = dnsknife.query('example.com', 'A', dnssec=True)"
     ],
     "language": "python",
     "metadata": {},
     "outputs": [],
     "prompt_number": 29
    },
    {
     "cell_type": "markdown",
     "metadata": {},
     "source": [
      "Checking a domain TXT record is installed, looking at each\n",
      "domain NS (no local caches) for a match:"
     ]
    },
    {
     "cell_type": "code",
     "collapsed": false,
     "input": [
      "from dnsknife import Checker\n",
      "\n",
      "Checker('example.com', direct=True).has_txt('dbef8938bef', ['www'], ignore_case=True)"
     ],
     "language": "python",
     "metadata": {},
     "outputs": [
      {
       "metadata": {},
       "output_type": "pyout",
       "prompt_number": 24,
       "text": [
        "False"
       ]
      }
     ],
     "prompt_number": 24
    },
    {
     "cell_type": "markdown",
     "metadata": {},
     "source": [
      "## It can be used for DNSSEC lookups, implements a few CDS/CDNSKEY drafts:"
     ]
    },
    {
     "cell_type": "code",
     "collapsed": false,
     "input": [
      "Checker('ten.pm', dnssec=True).cdnskey()"
     ],
     "language": "python",
     "metadata": {},
     "outputs": [
      {
       "ename": "BadCDNSKEY",
       "evalue": "1324 did not sign DNSKEY RR",
       "output_type": "pyerr",
       "traceback": [
        "\u001b[0;31m---------------------------------------------------------------------------\u001b[0m\n\u001b[0;31mBadCDNSKEY\u001b[0m                                Traceback (most recent call last)",
        "\u001b[0;32m<ipython-input-28-848a43a36fb4>\u001b[0m in \u001b[0;36m<module>\u001b[0;34m()\u001b[0m\n\u001b[0;32m----> 1\u001b[0;31m \u001b[0mChecker\u001b[0m\u001b[0;34m(\u001b[0m\u001b[0;34m'ten.pm'\u001b[0m\u001b[0;34m,\u001b[0m \u001b[0mdnssec\u001b[0m\u001b[0;34m=\u001b[0m\u001b[0mTrue\u001b[0m\u001b[0;34m)\u001b[0m\u001b[0;34m.\u001b[0m\u001b[0mcdnskey\u001b[0m\u001b[0;34m(\u001b[0m\u001b[0;34m)\u001b[0m\u001b[0;34m\u001b[0m\u001b[0m\n\u001b[0m",
        "\u001b[0;32m/home/pb/git/dnsknife/dnsknife/__init__.pyc\u001b[0m in \u001b[0;36mcdnskey\u001b[0;34m(self)\u001b[0m\n\u001b[1;32m    316\u001b[0m                     errstr = ('{} did not sign '\n\u001b[1;32m    317\u001b[0m                               'DNSKEY RR'.format(dns.dnssec.key_id(key)))\n\u001b[0;32m--> 318\u001b[0;31m                     \u001b[0;32mraise\u001b[0m \u001b[0mexceptions\u001b[0m\u001b[0;34m.\u001b[0m\u001b[0mBadCDNSKEY\u001b[0m\u001b[0;34m(\u001b[0m\u001b[0merrstr\u001b[0m\u001b[0;34m)\u001b[0m\u001b[0;34m\u001b[0m\u001b[0m\n\u001b[0m\u001b[1;32m    319\u001b[0m \u001b[0;34m\u001b[0m\u001b[0m\n\u001b[1;32m    320\u001b[0m             \u001b[0;31m# 3.\u001b[0m\u001b[0;34m\u001b[0m\u001b[0;34m\u001b[0m\u001b[0m\n",
        "\u001b[0;31mBadCDNSKEY\u001b[0m: 1324 did not sign DNSKEY RR"
       ]
      }
     ],
     "prompt_number": 28
    },
    {
     "cell_type": "markdown",
     "metadata": {},
     "source": [
      "## It also has a few more functions for DNSSEC checks:"
     ]
    },
    {
     "cell_type": "code",
     "collapsed": false,
     "input": [
      "keys = dnsknife.query('example.com', 'DNSKEY')\n",
      "\n",
      "dnsknife.signed_by(ans, keys[0])"
     ],
     "language": "python",
     "metadata": {},
     "outputs": [
      {
       "metadata": {},
       "output_type": "pyout",
       "prompt_number": 30,
       "text": [
        "True"
       ]
      }
     ],
     "prompt_number": 30
    },
    {
     "cell_type": "code",
     "collapsed": false,
     "input": [
      "dnsknife.signers(dnsknife.Checker('pm.', dnssec=True).query('pm.', 'DNSKEY'))"
     ],
     "language": "python",
     "metadata": {},
     "outputs": [
      {
       "metadata": {},
       "output_type": "pyout",
       "prompt_number": 31,
       "text": [
        "{<DNS name pm.>: [35968, 60859]}"
       ]
      }
     ],
     "prompt_number": 31
    },
    {
     "cell_type": "code",
     "collapsed": false,
     "input": [
      "dnsknife.trusted(ans)"
     ],
     "language": "python",
     "metadata": {},
     "outputs": [
      {
       "metadata": {},
       "output_type": "pyout",
       "prompt_number": 23,
       "text": [
        "True"
       ]
      }
     ],
     "prompt_number": 23
    },
    {
     "cell_type": "markdown",
     "metadata": {},
     "source": [
      "## Finally it implements TPDA - the draft can be found in the repo.\n",
      "### A third party provider wanting to change customer NS:\n"
     ]
    },
    {
     "cell_type": "code",
     "collapsed": false,
     "input": [
      "from dnsknife import tpda\n",
      "\n",
      "# initialize with private key from repo:\n",
      "client = tpda.Client('ten.pm', 'dnsknife/tests/test.key')\n",
      "\n",
      "# generate url for domain\n",
      "URI = client.nameservers_uri('whe.re', ['ns1.ten.pm','ns2.ten.pm'])"
     ],
     "language": "python",
     "metadata": {},
     "outputs": [],
     "prompt_number": 35
    },
    {
     "cell_type": "markdown",
     "metadata": {},
     "source": [
      "### A DNS operator/registrar validating inbound params:\n"
     ]
    },
    {
     "cell_type": "code",
     "collapsed": false,
     "input": [
      "tpda.validate_URI(URI)"
     ],
     "language": "python",
     "metadata": {},
     "outputs": [
      {
       "metadata": {},
       "output_type": "pyout",
       "prompt_number": 38,
       "text": [
        "'http://partners.gandi.net/nameservers/v1?source=ten.pm&domain=whe.re&expires=20160415000918&ns=ns1.ten.pm&ns=ns2.ten.pm'"
       ]
      }
     ],
     "prompt_number": 38
    }
   ],
   "metadata": {}
  }
 ]
}